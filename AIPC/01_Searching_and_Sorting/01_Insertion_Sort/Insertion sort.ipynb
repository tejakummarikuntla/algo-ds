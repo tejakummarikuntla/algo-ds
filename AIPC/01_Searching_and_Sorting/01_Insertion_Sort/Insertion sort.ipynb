{
 "cells": [
  {
   "cell_type": "markdown",
   "metadata": {},
   "source": [
    "# Insertion Sort\n",
    "- ref: CLRS [Insertion sort](https://www.google.com/url?sa=i&url=https%3A%2F%2Fstackoverflow.com%2Fquestions%2F48328001%2Fcormen-explanation-of-insertion-sort-algorithm&psig=AOvVaw1vgP6wdPTgIl0ef2WxKHx6&ust=1583325738178000&source=images&cd=vfe&ved=0CAIQjRxqFwoTCPDg7ZOq_ucCFQAAAAAdAAAAABAD)"
   ]
  },
  {
   "cell_type": "code",
   "execution_count": 6,
   "metadata": {},
   "outputs": [
    {
     "name": "stdout",
     "output_type": "stream",
     "text": [
      "[2, 1, 4, 6, 8]\n"
     ]
    }
   ],
   "source": [
    "# input_txt = [int(x) for x in input().split()]\n",
    "input_txt = [2, 6, 8, 1, 4]\n",
    "def inesertion_sort(arr):\n",
    "    for j in range(1, len(arr)):\n",
    "        key = arr[j]\n",
    "        i = j-1\n",
    "        \n",
    "        while(i>0 and arr[i] > key):\n",
    "            arr[i+1] = arr[i]\n",
    "            i = i-1\n",
    "            \n",
    "        arr[i+1] = key\n",
    "    print(arr)\n",
    "\n",
    "inesertion_sort(input_txt)"
   ]
  }
 ],
 "metadata": {
  "kernelspec": {
   "display_name": "Python 3",
   "language": "python",
   "name": "python3"
  },
  "language_info": {
   "codemirror_mode": {
    "name": "ipython",
    "version": 3
   },
   "file_extension": ".py",
   "mimetype": "text/x-python",
   "name": "python",
   "nbconvert_exporter": "python",
   "pygments_lexer": "ipython3",
   "version": "3.7.1"
  }
 },
 "nbformat": 4,
 "nbformat_minor": 2
}
