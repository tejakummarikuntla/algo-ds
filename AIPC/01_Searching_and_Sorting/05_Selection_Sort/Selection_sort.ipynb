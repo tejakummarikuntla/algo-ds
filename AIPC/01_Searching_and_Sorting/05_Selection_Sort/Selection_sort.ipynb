{
 "cells": [
  {
   "cell_type": "code",
   "execution_count": 41,
   "metadata": {},
   "outputs": [],
   "source": [
    "def sel_sort(arr):\n",
    "    for i in range(0, len(arr)):\n",
    "        k = i\n",
    "        for j in range(i+1, len(arr)):\n",
    "            if(arr[j] < arr[k]):\n",
    "                k = j\n",
    "        arr[i], arr[k] = arr[k], arr[i]\n",
    "        \n",
    "        return arr"
   ]
  },
  {
   "cell_type": "code",
   "execution_count": 42,
   "metadata": {},
   "outputs": [
    {
     "name": "stdout",
     "output_type": "stream",
     "text": [
      "[1, 3, 2, 5, 6, 9, 7]\n"
     ]
    }
   ],
   "source": [
    "arr = [2, 3, 1, 5, 6, 9, 7]\n",
    "sel_sort(arr)\n",
    "print(arr)"
   ]
  },
  {
   "cell_type": "code",
   "execution_count": null,
   "metadata": {},
   "outputs": [],
   "source": []
  },
  {
   "cell_type": "code",
   "execution_count": null,
   "metadata": {},
   "outputs": [],
   "source": []
  }
 ],
 "metadata": {
  "kernelspec": {
   "display_name": "Python 3",
   "language": "python",
   "name": "python3"
  },
  "language_info": {
   "codemirror_mode": {
    "name": "ipython",
    "version": 3
   },
   "file_extension": ".py",
   "mimetype": "text/x-python",
   "name": "python",
   "nbconvert_exporter": "python",
   "pygments_lexer": "ipython3",
   "version": "3.7.6"
  }
 },
 "nbformat": 4,
 "nbformat_minor": 4
}
