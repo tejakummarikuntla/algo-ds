{
 "cells": [
  {
   "cell_type": "markdown",
   "metadata": {},
   "source": [
    "## Partition"
   ]
  },
  {
   "cell_type": "markdown",
   "metadata": {},
   "source": [
    "### Partition without low and high\n",
    "- i,j starts in the beginning"
   ]
  },
  {
   "cell_type": "code",
   "execution_count": 26,
   "metadata": {},
   "outputs": [],
   "source": [
    "def partition(arr):\n",
    "    i = 0\n",
    "    j = 1\n",
    "    while(j < len(arr)):\n",
    "        if(arr[j] > arr[i]):\n",
    "            j += 1\n",
    "        else:\n",
    "            i += 1\n",
    "            temp = arr[i]\n",
    "            arr[i] = arr[j]\n",
    "            arr[j] = temp\n",
    "            \n",
    "    temp = arr[0]\n",
    "    arr[0] = arr[i]\n",
    "    arr[i] = temp\n",
    "    \n",
    "    print(arr)\n",
    "    return i"
   ]
  },
  {
   "cell_type": "code",
   "execution_count": 27,
   "metadata": {},
   "outputs": [
    {
     "name": "stdout",
     "output_type": "stream",
     "text": [
      "[2, 5, 3, 6, 8, 13, 10, 11]\n"
     ]
    },
    {
     "data": {
      "text/plain": [
       "3"
      ]
     },
     "execution_count": 27,
     "metadata": {},
     "output_type": "execute_result"
    }
   ],
   "source": [
    "arr = [6, 10, 13, 5, 8, 3, 2, 11]\n",
    "partition(arr)"
   ]
  },
  {
   "cell_type": "markdown",
   "metadata": {},
   "source": [
    "### Partition with low and high,\n",
    "- j starts from the end"
   ]
  },
  {
   "cell_type": "code",
   "execution_count": 61,
   "metadata": {},
   "outputs": [],
   "source": [
    "def part_lh(arr, low, high):\n",
    "    i = low\n",
    "    j = high-1\n",
    "    pivot = arr[low]\n",
    "    \n",
    "    while(i<j):\n",
    "        while(arr[i] <= pivot):\n",
    "            i += 1\n",
    "        while(arr[j] > pivot):\n",
    "            j -= 1\n",
    "            \n",
    "        if(i<j):\n",
    "            temp = arr[i]\n",
    "            arr[i] = arr[j]\n",
    "            arr[j] = temp\n",
    "        \n",
    "    temp = arr[j]\n",
    "    arr[j] = arr[low]\n",
    "    arr[low] = temp\n",
    "        \n",
    "    return j"
   ]
  },
  {
   "cell_type": "code",
   "execution_count": 62,
   "metadata": {},
   "outputs": [
    {
     "data": {
      "text/plain": [
       "3"
      ]
     },
     "execution_count": 62,
     "metadata": {},
     "output_type": "execute_result"
    }
   ],
   "source": [
    "arr = [6, 10, 13, 5, 8, 3, 2, 11]\n",
    "part_lh(arr, 0, len(arr))"
   ]
  },
  {
   "cell_type": "code",
   "execution_count": 63,
   "metadata": {},
   "outputs": [
    {
     "data": {
      "text/plain": [
       "5"
      ]
     },
     "execution_count": 63,
     "metadata": {},
     "output_type": "execute_result"
    }
   ],
   "source": [
    "arr = [10, 16, 8, 12, 15, 6, 3, 9, 5]\n",
    "part_lh(arr, 0, len(arr))"
   ]
  },
  {
   "cell_type": "code",
   "execution_count": 75,
   "metadata": {},
   "outputs": [
    {
     "name": "stdout",
     "output_type": "stream",
     "text": [
      "[3, 5, 6, 8, 9, 10, 12, 15, 16]\n"
     ]
    }
   ],
   "source": [
    "def part_lh(arr, low, high):\n",
    "    i = low\n",
    "    j = high-1\n",
    "    pivot = arr[low]\n",
    "    \n",
    "    while(i<j):\n",
    "        while(arr[i] <= pivot):\n",
    "            i += 1\n",
    "        while(arr[j] > pivot):\n",
    "            j -= 1\n",
    "            \n",
    "        if(i<j):\n",
    "            temp = arr[i]\n",
    "            arr[i] = arr[j]\n",
    "            arr[j] = temp\n",
    "        \n",
    "    temp = arr[j]\n",
    "    arr[j] = arr[low]\n",
    "    arr[low] = temp\n",
    "        \n",
    "    return j\n",
    "\n",
    "def Quick_sort(arr, low, high):\n",
    "    if(low < high):\n",
    "        pos = part_lh(arr, low, high)\n",
    "        Quick_sort(arr, low, pos)\n",
    "        Quick_sort(arr, pos+1, high)\n",
    "\n",
    "if __name__ == '__main__':\n",
    "    arr = [10, 16, 8, 12, 15, 6, 3, 9, 5]\n",
    "    Quick_sort(arr, 0, len(arr))\n",
    "    print(arr)"
   ]
  },
  {
   "cell_type": "markdown",
   "metadata": {},
   "source": [
    "Throws error when the input datat size increases"
   ]
  },
  {
   "cell_type": "markdown",
   "metadata": {},
   "source": [
    "- Source: https://stackabuse.com/quicksort-in-python/"
   ]
  },
  {
   "cell_type": "code",
   "execution_count": 86,
   "metadata": {},
   "outputs": [
    {
     "name": "stdout",
     "output_type": "stream",
     "text": [
      "[12, 19, 21, 27, 28, 29, 31, 41, 44, 44, 58, 66, 76, 78, 83, 87, 88, 97, 99]\n"
     ]
    }
   ],
   "source": [
    "def partition(array, start, end):\n",
    "    pivot = array[start]\n",
    "    low = start + 1\n",
    "    high = end\n",
    "\n",
    "    while True:\n",
    "        while low <= high and array[high] >= pivot:\n",
    "            high = high - 1\n",
    "\n",
    "        while low <= high and array[low] <= pivot:\n",
    "            low = low + 1\n",
    "\n",
    "        if low <= high:\n",
    "            array[low], array[high] = array[high], array[low]\n",
    "        else:\n",
    "            break\n",
    "\n",
    "    array[start], array[high] = array[high], array[start]\n",
    "\n",
    "    return high\n",
    "\n",
    "def quick_sort(array, start, end):\n",
    "    if start >= end:\n",
    "        return\n",
    "\n",
    "    p = partition(array, start, end)\n",
    "    quick_sort(array, start, p-1)\n",
    "    quick_sort(array, p+1, end)\n",
    "    \n",
    "    \n",
    "array = [29,99,27,41,66,28,44,78,87,19,31,76,58,88,83,97,12,21,44]\n",
    "quick_sort(array, 0, len(array) - 1)\n",
    "print(array)"
   ]
  },
  {
   "cell_type": "code",
   "execution_count": null,
   "metadata": {},
   "outputs": [],
   "source": []
  }
 ],
 "metadata": {
  "kernelspec": {
   "display_name": "Python 3",
   "language": "python",
   "name": "python3"
  },
  "language_info": {
   "codemirror_mode": {
    "name": "ipython",
    "version": 3
   },
   "file_extension": ".py",
   "mimetype": "text/x-python",
   "name": "python",
   "nbconvert_exporter": "python",
   "pygments_lexer": "ipython3",
   "version": "3.7.6"
  }
 },
 "nbformat": 4,
 "nbformat_minor": 4
}
