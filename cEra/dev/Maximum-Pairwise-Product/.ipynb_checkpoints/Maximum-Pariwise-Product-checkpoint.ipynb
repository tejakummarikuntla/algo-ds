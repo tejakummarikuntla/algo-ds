{
 "cells": [
  {
   "cell_type": "code",
   "execution_count": 1,
   "metadata": {},
   "outputs": [
    {
     "name": "stdout",
     "output_type": "stream",
     "text": [
      "Enter The Array Elements: 12 34 10 5\n"
     ]
    }
   ],
   "source": [
    "arr_numbers = input(\"Enter The Array Elements: \")"
   ]
  },
  {
   "cell_type": "code",
   "execution_count": 13,
   "metadata": {},
   "outputs": [],
   "source": [
    "str_arr = str(arr_numbers)"
   ]
  },
  {
   "cell_type": "code",
   "execution_count": 16,
   "metadata": {},
   "outputs": [],
   "source": [
    "lst_arr = str_arr.split()"
   ]
  },
  {
   "cell_type": "code",
   "execution_count": 19,
   "metadata": {},
   "outputs": [
    {
     "data": {
      "text/plain": [
       "['12', '34', '10', '5']"
      ]
     },
     "execution_count": 19,
     "metadata": {},
     "output_type": "execute_result"
    }
   ],
   "source": [
    "lst_arr"
   ]
  },
  {
   "cell_type": "code",
   "execution_count": 56,
   "metadata": {},
   "outputs": [
    {
     "name": "stdout",
     "output_type": "stream",
     "text": [
      "Enter Input Size: 10\n",
      "Enter List Elements: 7\n",
      "Enter List Elements: 5\n",
      "Enter List Elements: 14\n",
      "Enter List Elements: 2\n",
      "Enter List Elements: 8\n",
      "Enter List Elements: 8\n",
      "Enter List Elements: 10\n",
      "Enter List Elements: 1\n",
      "Enter List Elements: 2\n",
      "Enter List Elements: 3\n"
     ]
    }
   ],
   "source": [
    "lst_arr = []\n",
    "input_size = input(\"Enter Input Size: \")\n",
    "for i in ran`ge(0, int(input_size)):\n",
    "    temp_arr = input(\"Enter List Elements: \")\n",
    "    lst_arr.append(temp_arr)"
   ]
  },
  {
   "cell_type": "code",
   "execution_count": 57,
   "metadata": {},
   "outputs": [
    {
     "name": "stdout",
     "output_type": "stream",
     "text": [
      "7  *  5  =  35\n",
      "7  *  14  =  98\n",
      "7  *  2  =  14\n",
      "7  *  8  =  56\n",
      "7  *  8  =  56\n",
      "7  *  10  =  70\n",
      "7  *  1  =  7\n",
      "7  *  2  =  14\n",
      "7  *  3  =  21\n",
      "5  *  7  =  35\n",
      "5  *  14  =  70\n",
      "5  *  2  =  10\n",
      "5  *  8  =  40\n",
      "5  *  8  =  40\n",
      "5  *  10  =  50\n",
      "5  *  1  =  5\n",
      "5  *  2  =  10\n",
      "5  *  3  =  15\n",
      "14  *  7  =  98\n",
      "14  *  5  =  70\n",
      "14  *  2  =  28\n",
      "14  *  8  =  112\n",
      "14  *  8  =  112\n",
      "14  *  10  =  140\n",
      "14  *  1  =  14\n",
      "14  *  2  =  28\n",
      "14  *  3  =  42\n",
      "2  *  7  =  14\n",
      "2  *  5  =  10\n",
      "2  *  14  =  28\n",
      "2  *  8  =  16\n",
      "2  *  8  =  16\n",
      "2  *  10  =  20\n",
      "2  *  1  =  2\n",
      "2  *  2  =  4\n",
      "2  *  3  =  6\n",
      "8  *  7  =  56\n",
      "8  *  5  =  40\n",
      "8  *  14  =  112\n",
      "8  *  2  =  16\n",
      "8  *  8  =  64\n",
      "8  *  10  =  80\n",
      "8  *  1  =  8\n",
      "8  *  2  =  16\n",
      "8  *  3  =  24\n",
      "8  *  7  =  56\n",
      "8  *  5  =  40\n",
      "8  *  14  =  112\n",
      "8  *  2  =  16\n",
      "8  *  8  =  64\n",
      "8  *  10  =  80\n",
      "8  *  1  =  8\n",
      "8  *  2  =  16\n",
      "8  *  3  =  24\n",
      "10  *  7  =  70\n",
      "10  *  5  =  50\n",
      "10  *  14  =  140\n",
      "10  *  2  =  20\n",
      "10  *  8  =  80\n",
      "10  *  8  =  80\n",
      "10  *  1  =  10\n",
      "10  *  2  =  20\n",
      "10  *  3  =  30\n",
      "1  *  7  =  7\n",
      "1  *  5  =  5\n",
      "1  *  14  =  14\n",
      "1  *  2  =  2\n",
      "1  *  8  =  8\n",
      "1  *  8  =  8\n",
      "1  *  10  =  10\n",
      "1  *  2  =  2\n",
      "1  *  3  =  3\n",
      "2  *  7  =  14\n",
      "2  *  5  =  10\n",
      "2  *  14  =  28\n",
      "2  *  2  =  4\n",
      "2  *  8  =  16\n",
      "2  *  8  =  16\n",
      "2  *  10  =  20\n",
      "2  *  1  =  2\n",
      "2  *  3  =  6\n",
      "3  *  7  =  21\n",
      "3  *  5  =  15\n",
      "3  *  14  =  42\n",
      "3  *  2  =  6\n",
      "3  *  8  =  24\n",
      "3  *  8  =  24\n",
      "3  *  10  =  30\n",
      "3  *  1  =  3\n",
      "3  *  2  =  6\n",
      "MAX:  140\n"
     ]
    }
   ],
   "source": [
    "mult_arr = []\n",
    "temp_val = 0\n",
    "for i in range(0, len(lst_arr)):\n",
    "    for j in range(0, len(lst_arr)):\n",
    "        if i == j:\n",
    "            continue\n",
    "        temp_val = int(lst_arr[i])*int(lst_arr[j])\n",
    "        #print(lst_arr[i], \" * \", lst_arr[j], \" = \", temp_val)\n",
    "        mult_arr.append(temp_val)\n",
    "print(\"MAX: \", max(mult_arr))"
   ]
  },
  {
   "cell_type": "code",
   "execution_count": null,
   "metadata": {},
   "outputs": [],
   "source": []
  },
  {
   "cell_type": "code",
   "execution_count": null,
   "metadata": {},
   "outputs": [],
   "source": []
  }
 ],
 "metadata": {
  "kernelspec": {
   "display_name": "Python 3",
   "language": "python",
   "name": "python3"
  },
  "language_info": {
   "codemirror_mode": {
    "name": "ipython",
    "version": 3
   },
   "file_extension": ".py",
   "mimetype": "text/x-python",
   "name": "python",
   "nbconvert_exporter": "python",
   "pygments_lexer": "ipython3",
   "version": "3.7.1"
  }
 },
 "nbformat": 4,
 "nbformat_minor": 2
}
