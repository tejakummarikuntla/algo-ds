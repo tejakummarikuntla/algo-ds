{
 "cells": [
  {
   "cell_type": "code",
   "execution_count": 9,
   "metadata": {},
   "outputs": [
    {
     "name": "stdout",
     "output_type": "stream",
     "text": [
      "Enter The Array Elements: 4\n"
     ]
    }
   ],
   "source": [
    "arr_numbers = input(\"Enter The Array Elements: \")"
   ]
  },
  {
   "cell_type": "code",
   "execution_count": 13,
   "metadata": {},
   "outputs": [],
   "source": [
    "str_arr = str(arr_numbers)"
   ]
  },
  {
   "cell_type": "code",
   "execution_count": 16,
   "metadata": {},
   "outputs": [],
   "source": [
    "lst_arr = str_arr.split()"
   ]
  },
  {
   "cell_type": "code",
   "execution_count": 19,
   "metadata": {},
   "outputs": [
    {
     "data": {
      "text/plain": [
       "['12', '34', '10', '5']"
      ]
     },
     "execution_count": 19,
     "metadata": {},
     "output_type": "execute_result"
    }
   ],
   "source": [
    "lst_arr"
   ]
  },
  {
   "cell_type": "code",
   "execution_count": 31,
   "metadata": {},
   "outputs": [
    {
     "name": "stdout",
     "output_type": "stream",
     "text": [
      "Enter Input Size: 4\n",
      "Enter List Elements: 6\n",
      "Enter List Elements: 2\n",
      "Enter List Elements: 1\n",
      "Enter List Elements: 7\n"
     ]
    }
   ],
   "source": [
    "lst_arr = []\n",
    "input_size = input(\"Enter Input Size: \")\n",
    "for i in range(0, int(input_size)):\n",
    "    temp_arr = input(\"Enter List Elements: \")\n",
    "    lst_arr.append(temp_arr)"
   ]
  },
  {
   "cell_type": "code",
   "execution_count": 32,
   "metadata": {},
   "outputs": [
    {
     "name": "stdout",
     "output_type": "stream",
     "text": [
      "MAX:  42\n"
     ]
    }
   ],
   "source": [
    "mult_arr = []\n",
    "temp_val = 0\n",
    "for i in range(0, len(lst_arr)):\n",
    "    for j in range(0, len(lst_arr)):\n",
    "        if i == j:\n",
    "            continue\n",
    "        temp_val = int(lst_arr[i])*int(lst_arr[j])\n",
    "        #print(lst_arr[i], \" * \", lst_arr[j], \" = \", temp_val)\n",
    "        mult_arr.append(temp_val)\n",
    "print(\"MAX: \", max(mult_arr))"
   ]
  },
  {
   "cell_type": "code",
   "execution_count": 4,
   "metadata": {},
   "outputs": [],
   "source": [
    "ll = [1,25,6,8]\n",
    "n = len(ll)"
   ]
  },
  {
   "cell_type": "code",
   "execution_count": 6,
   "metadata": {},
   "outputs": [
    {
     "name": "stdout",
     "output_type": "stream",
     "text": [
      "1   25\n",
      "1   6\n",
      "1   8\n",
      "25   6\n",
      "25   8\n",
      "6   8\n"
     ]
    }
   ],
   "source": [
    "for first in range(n):\n",
    "    for second in range(first + 1, n):\n",
    "        print(ll[first],\" \", ll[second])"
   ]
  },
  {
   "cell_type": "code",
   "execution_count": 15,
   "metadata": {},
   "outputs": [],
   "source": [
    "def max_pairwise_product(numbers):\n",
    "    n = len(numbers)\n",
    "    max_product = 0\n",
    "    for first in range(n):\n",
    "        for second in range(first + 1, n):\n",
    "            print(numbers[first], \" * \", numbers[second], \" = \", numbers[first]*numbers[second])\n",
    "            max_product = max(max_product,\n",
    "                numbers[first] * numbers[second])\n",
    "\n",
    "    return max_product"
   ]
  },
  {
   "cell_type": "code",
   "execution_count": 17,
   "metadata": {},
   "outputs": [
    {
     "name": "stdout",
     "output_type": "stream",
     "text": [
      "8  *  1  =  8\n",
      "8  *  9  =  72\n",
      "8  *  3  =  24\n",
      "1  *  9  =  9\n",
      "1  *  3  =  3\n",
      "9  *  3  =  27\n"
     ]
    },
    {
     "data": {
      "text/plain": [
       "72"
      ]
     },
     "execution_count": 17,
     "metadata": {},
     "output_type": "execute_result"
    }
   ],
   "source": [
    "max_pairwise_product([8,1,9,3])"
   ]
  },
  {
   "cell_type": "code",
   "execution_count": 21,
   "metadata": {},
   "outputs": [
    {
     "data": {
      "text/plain": [
       "8"
      ]
     },
     "execution_count": 21,
     "metadata": {},
     "output_type": "execute_result"
    }
   ],
   "source": [
    "ll[-1]"
   ]
  },
  {
   "cell_type": "code",
   "execution_count": 22,
   "metadata": {},
   "outputs": [
    {
     "data": {
      "text/plain": [
       "[1, 25, 6, 8]"
      ]
     },
     "execution_count": 22,
     "metadata": {},
     "output_type": "execute_result"
    }
   ],
   "source": [
    "ll"
   ]
  },
  {
   "cell_type": "code",
   "execution_count": 29,
   "metadata": {},
   "outputs": [],
   "source": [
    "def max_pairwise_product_fast(n, numbers):\n",
    "    max_index1 = -1\n",
    "    for i in range(n):\n",
    "        if max_index1 == -1 or numbers[i] > numbers[max_index1]:\n",
    "            max_index1 = i\n",
    "\n",
    "    max_index2 = -1\n",
    "    for i in range(n):\n",
    "        if i != max_index1 and (max_index2 == -1 or numbers[i] > numbers[max_index2]):\n",
    "            max_index2 = i\n",
    "    print(numbers[max_index1],\" * \", numbers[max_index2], \" = \",numbers[max_index1] * numbers[max_index2] )\n",
    "    return numbers[max_index1] * numbers[max_index2]"
   ]
  },
  {
   "cell_type": "code",
   "execution_count": 30,
   "metadata": {},
   "outputs": [
    {
     "name": "stdout",
     "output_type": "stream",
     "text": [
      "7  *  6  =  42\n"
     ]
    },
    {
     "data": {
      "text/plain": [
       "42"
      ]
     },
     "execution_count": 30,
     "metadata": {},
     "output_type": "execute_result"
    }
   ],
   "source": [
    "max_pairwise_product_fast(4, [6,2,1,7])"
   ]
  },
  {
   "cell_type": "code",
   "execution_count": 39,
   "metadata": {},
   "outputs": [],
   "source": [
    "def max_mult_high(n, numbers):\n",
    "    max_num_1 = max(numbers)\n",
    "    numbers.remove(max_num_1)\n",
    "    max_num_2 = max(numbers)\n",
    "    \n",
    "    return max_num_1 * max_num_2"
   ]
  },
  {
   "cell_type": "code",
   "execution_count": 44,
   "metadata": {},
   "outputs": [],
   "source": [
    "def max_number(numbers):\n",
    "    max_index = -1\n",
    "    for i in range(len(numbers)):\n",
    "        \n",
    "        if max_index == -1 or numbers[i] > numbers[max_index]:\n",
    "            max_index = i\n",
    "        \n",
    "    return numbers[max_index]"
   ]
  },
  {
   "cell_type": "code",
   "execution_count": 46,
   "metadata": {},
   "outputs": [
    {
     "data": {
      "text/plain": [
       "7"
      ]
     },
     "execution_count": 46,
     "metadata": {},
     "output_type": "execute_result"
    }
   ],
   "source": [
    "max_number([1,5,2,7])"
   ]
  },
  {
   "cell_type": "code",
   "execution_count": null,
   "metadata": {},
   "outputs": [],
   "source": []
  }
 ],
 "metadata": {
  "kernelspec": {
   "display_name": "Python 3",
   "language": "python",
   "name": "python3"
  },
  "language_info": {
   "codemirror_mode": {
    "name": "ipython",
    "version": 3
   },
   "file_extension": ".py",
   "mimetype": "text/x-python",
   "name": "python",
   "nbconvert_exporter": "python",
   "pygments_lexer": "ipython3",
   "version": "3.7.1"
  }
 },
 "nbformat": 4,
 "nbformat_minor": 2
}
